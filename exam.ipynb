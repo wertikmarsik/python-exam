{
 "cells": [
  {
   "cell_type": "code",
   "execution_count": null,
   "metadata": {},
   "outputs": [],
   "source": [
    "from datetime import datetime\n",
    "\n",
    "def convert_date(input_date, input_format, output_format):\n",
    "    try:\n",
    "        parsed_date = datetime.strptime(input_date, input_format)\n",
    "        \n",
    "        output_date = parsed_date.strftime(output_format)\n",
    "        \n",
    "        return output_date\n",
    "    \n",
    "    except ValueError as e:\n",
    "        return f\"Помилка: {e}\"\n",
    "\n",
    "input_date = input(\"Введіть дату: \")\n",
    "input_format = '%d/%m/%Y'\n",
    "output_format_1 = '%Y-%m-%d'\n",
    "output_format_2 = '%m-%d-%Y'\n",
    "output_format_3 = '%d-%m-%Y'\n",
    "\n",
    "result_1 = convert_date(input_date, input_format, output_format_1)\n",
    "result_2 = convert_date(input_date, input_format, output_format_2)\n",
    "result_3 = convert_date(input_date, input_format, output_format_3)\n",
    "\n",
    "print(result_1)\n",
    "print(result_2)\n",
    "print(result_3)\n"
   ]
  }
 ],
 "metadata": {
  "language_info": {
   "name": "python"
  }
 },
 "nbformat": 4,
 "nbformat_minor": 2
}
